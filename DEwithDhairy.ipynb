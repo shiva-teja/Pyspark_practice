{
 "cells": [
  {
   "cell_type": "code",
   "execution_count": 0,
   "metadata": {
    "application/vnd.databricks.v1+cell": {
     "cellMetadata": {
      "byteLimit": 2048000,
      "rowLimit": 10000
     },
     "inputWidgets": {},
     "nuid": "e0eee252-9abc-44f2-9bc3-cc3969004104",
     "showTitle": false,
     "title": ""
    }
   },
   "outputs": [
    {
     "output_type": "stream",
     "name": "stdout",
     "output_type": "stream",
     "text": [
      "+----------+------------+\n|student_id|Student_name|\n+----------+------------+\n|         1|       Shiva|\n|         2|       Pavan|\n|         3|      Vishwa|\n|         4|      Aditya|\n+----------+------------+\n\n+----------+------------+-----+\n|student_id|Subject_name|marks|\n+----------+------------+-----+\n|         1|     PySpark|   90|\n|         1|         SQL|  100|\n|         2|     PySpark|   80|\n|         2|         SQL|   30|\n|         3|     PySpark|   20|\n|         3|         SQL|   20|\n|         4|     PySpark|   90|\n|         4|         SQL|   90|\n+----------+------------+-----+\n\n"
     ]
    }
   ],
   "source": [
    "student = [(1, 'Shiva'),(2, 'Pavan'),(3, 'Vishwa'), (4, 'Aditya')]\n",
    "stu_schema = \"student_id int, Student_name string\"\n",
    "\n",
    "marks = [(1, 'PySpark', 90),(1, 'SQL', 100),\n",
    "         (2, 'PySpark', 80),(2, 'SQL', 30),\n",
    "         (3, 'PySpark', 20),(3, 'SQL', 20),\n",
    "         (4, 'PySpark', 90),(4, 'SQL', 90)]\n",
    "marks_schema = \"student_id int, Subject_name string, marks int\"\n",
    "\n",
    "student_df = spark.createDataFrame(student, stu_schema)\n",
    "marks_df = spark.createDataFrame(marks, marks_schema)\n",
    "student_df.show()\n",
    "marks_df.show()"
   ]
  },
  {
   "cell_type": "code",
   "execution_count": 0,
   "metadata": {
    "application/vnd.databricks.v1+cell": {
     "cellMetadata": {
      "byteLimit": 2048000,
      "rowLimit": 10000
     },
     "inputWidgets": {},
     "nuid": "a2ed83c9-e9b3-41c8-a283-2b8ddd1dbd89",
     "showTitle": false,
     "title": ""
    }
   },
   "outputs": [],
   "source": [
    "from pyspark.sql.functions import col,sum,count, when"
   ]
  },
  {
   "cell_type": "code",
   "execution_count": 0,
   "metadata": {
    "application/vnd.databricks.v1+cell": {
     "cellMetadata": {
      "byteLimit": 2048000,
      "rowLimit": 10000
     },
     "inputWidgets": {},
     "nuid": "db0d29d9-67b4-41bc-8a4e-0f40285871ed",
     "showTitle": false,
     "title": ""
    }
   },
   "outputs": [
    {
     "output_type": "stream",
     "name": "stdout",
     "output_type": "stream",
     "text": [
      "+----------+-----------+--------------+\n|student_id|total_marks|total_subjects|\n+----------+-----------+--------------+\n|         1|        190|             2|\n|         2|        110|             2|\n|         3|         40|             2|\n|         4|        180|             2|\n+----------+-----------+--------------+\n\n"
     ]
    }
   ],
   "source": [
    "marks_df1= marks_df.groupBy(col('student_id')).agg(\n",
    "    sum(col('marks')).alias('total_marks'),\n",
    "    count(col('Subject_name')).alias('total_subjects')\n",
    "    )\n",
    "marks_df1.show()"
   ]
  },
  {
   "cell_type": "code",
   "execution_count": 0,
   "metadata": {
    "application/vnd.databricks.v1+cell": {
     "cellMetadata": {
      "byteLimit": 2048000,
      "rowLimit": 10000
     },
     "inputWidgets": {},
     "nuid": "ae8b9db0-38ef-4866-a414-a69427b5a3c1",
     "showTitle": false,
     "title": ""
    }
   },
   "outputs": [
    {
     "output_type": "stream",
     "name": "stdout",
     "output_type": "stream",
     "text": [
      "+----------+-----------+--------------+----------+\n|student_id|total_marks|total_subjects|percentage|\n+----------+-----------+--------------+----------+\n|         1|        190|             2|      95.0|\n|         2|        110|             2|      55.0|\n|         3|         40|             2|      20.0|\n|         4|        180|             2|      90.0|\n+----------+-----------+--------------+----------+\n\n"
     ]
    }
   ],
   "source": [
    "marks_df2 = marks_df1.withColumn(\"percentage\", (col(\"total_marks\")*100.0)/(col(\"total_subjects\")*100))\n",
    "marks_df2.show()"
   ]
  },
  {
   "cell_type": "code",
   "execution_count": 0,
   "metadata": {
    "application/vnd.databricks.v1+cell": {
     "cellMetadata": {
      "byteLimit": 2048000,
      "rowLimit": 10000
     },
     "inputWidgets": {},
     "nuid": "21a12e41-fff1-443d-8532-eff2f8be4c09",
     "showTitle": false,
     "title": ""
    }
   },
   "outputs": [],
   "source": [
    "marks_df3 = marks_df2.withColumn(\"Class\",\n",
    "                                 when(col(\"percentage\") >= 70, 'Distinction')\\\n",
    "                                    .when(col(\"percentage\").between(60,69), 'First_Class')\\\n",
    "                                        .when(col(\"percentage\").between(50,59), 'Second_Class').otherwise(\"Fail\")\n",
    ")"
   ]
  },
  {
   "cell_type": "code",
   "execution_count": 0,
   "metadata": {
    "application/vnd.databricks.v1+cell": {
     "cellMetadata": {
      "byteLimit": 2048000,
      "rowLimit": 10000
     },
     "inputWidgets": {},
     "nuid": "4ffce0a3-0975-4a76-aabd-9e19741b0f8b",
     "showTitle": false,
     "title": ""
    }
   },
   "outputs": [
    {
     "output_type": "stream",
     "name": "stdout",
     "output_type": "stream",
     "text": [
      "+----------+-----------+--------------+----------+------------+\n|student_id|total_marks|total_subjects|percentage|       Class|\n+----------+-----------+--------------+----------+------------+\n|         1|        190|             2|      95.0| Distinction|\n|         2|        110|             2|      55.0|Second_Class|\n|         3|         40|             2|      20.0|        Fail|\n|         4|        180|             2|      90.0| Distinction|\n+----------+-----------+--------------+----------+------------+\n\n"
     ]
    }
   ],
   "source": [
    "marks_df3.show()"
   ]
  },
  {
   "cell_type": "code",
   "execution_count": 0,
   "metadata": {
    "application/vnd.databricks.v1+cell": {
     "cellMetadata": {
      "byteLimit": 2048000,
      "rowLimit": 10000
     },
     "inputWidgets": {},
     "nuid": "d7f3ffe9-31e5-479a-acb8-b3ef67f5f7af",
     "showTitle": false,
     "title": ""
    }
   },
   "outputs": [
    {
     "output_type": "stream",
     "name": "stdout",
     "output_type": "stream",
     "text": [
      "+----------+------------+----------+------------+\n|student_id|Student_name|percentage|       Class|\n+----------+------------+----------+------------+\n|         1|       Shiva|      95.0| Distinction|\n|         2|       Pavan|      55.0|Second_Class|\n|         3|      Vishwa|      20.0|        Fail|\n|         4|      Aditya|      90.0| Distinction|\n+----------+------------+----------+------------+\n\n"
     ]
    }
   ],
   "source": [
    "final_df = marks_df3.join(student_df, on = \"student_id\").select(student_df.student_id, student_df.Student_name, marks_df3.percentage, marks_df3.Class)\n",
    "\n",
    "final_df.show()"
   ]
  },
  {
   "cell_type": "markdown",
   "metadata": {
    "application/vnd.databricks.v1+cell": {
     "cellMetadata": {
      "byteLimit": 2048000,
      "rowLimit": 10000
     },
     "inputWidgets": {},
     "nuid": "a1e44d1b-4201-4eea-8868-a26eb2577745",
     "showTitle": false,
     "title": ""
    }
   },
   "source": [
    "##Question2"
   ]
  },
  {
   "cell_type": "code",
   "execution_count": 0,
   "metadata": {
    "application/vnd.databricks.v1+cell": {
     "cellMetadata": {
      "byteLimit": 2048000,
      "rowLimit": 10000
     },
     "inputWidgets": {},
     "nuid": "7d14ba2b-5ec8-4658-a96d-8c04eea76eeb",
     "showTitle": false,
     "title": ""
    }
   },
   "outputs": [],
   "source": [
    "from pyspark.sql.types import StructField, StructType, IntegerType, StringType"
   ]
  },
  {
   "cell_type": "code",
   "execution_count": 0,
   "metadata": {
    "application/vnd.databricks.v1+cell": {
     "cellMetadata": {
      "byteLimit": 2048000,
      "rowLimit": 10000
     },
     "inputWidgets": {},
     "nuid": "47e69648-38a9-414a-8c7e-f66fcd92db8e",
     "showTitle": false,
     "title": ""
    }
   },
   "outputs": [],
   "source": [
    "schema = StructType([\n",
    "    StructField(\"emp_id\", IntegerType(), True),\n",
    "    StructField(\"emp_name\", StringType(), True),\n",
    "    StructField(\"emp_gender\", StringType(), True),\n",
    "    StructField(\"emp_age\", IntegerType(), True),\n",
    "    StructField(\"emp_salary\", IntegerType(), True),\n",
    "    StructField(\"emp_manager\", StringType(), True)\n",
    "])"
   ]
  },
  {
   "cell_type": "code",
   "execution_count": 0,
   "metadata": {
    "application/vnd.databricks.v1+cell": {
     "cellMetadata": {
      "byteLimit": 2048000,
      "rowLimit": 10000
     },
     "inputWidgets": {},
     "nuid": "d96defa9-91eb-485d-a3a1-1878b543a0c4",
     "showTitle": false,
     "title": ""
    }
   },
   "outputs": [],
   "source": [
    "data = [\n",
    "    (1, \"Arjun Patel\", \"Male\", 30, 60000, \"Aarav Sharma\"),\n",
    "    (2, \"Aarav Sharma\", \"Male\", 28, 55000, \"Zara Singh\"),\n",
    "    (3, \"Zara Singh\", \"Female\", 35, 70000, \"Arjun Patel\"),\n",
    "    (4, \"Priya Reddy\", \"Female\", 32, 65000, \"Aarav Sharma\"),\n",
    "    (1, \"Arjun Patel\", \"Male\", 30, 60000, \"Aarav Sharma\"),\n",
    "    (6, \"Naina Verma\", \"Female\", 31, 72000, \"Arjun Patel\"),\n",
    "    (1, \"Arjun Patel\", \"Male\", 30, 60000, \"Aarav Sharma\"),\n",
    "    (4, \"Priya Reddy\", \"Female\", 32, 65000, \"Aarav Sharma\"),\n",
    "    (5, \"Aditya Kapoor\", \"Male\", 28, 58000, \"Zara Singh\"),\n",
    "    (10, \"Anaya Joshi\", \"Female\", 27, 59000, \"Aarav Sharma\"),\n",
    "    (11, \"Rohan Malhotra\", \"Male\", 36, 73000, \"Zara Singh\"),\n",
    "    (3, \"Zara Singh\", \"Female\", 35, 70000, \"Arjun Patel\")\n",
    "]"
   ]
  },
  {
   "cell_type": "code",
   "execution_count": 0,
   "metadata": {
    "application/vnd.databricks.v1+cell": {
     "cellMetadata": {
      "byteLimit": 2048000,
      "rowLimit": 10000
     },
     "inputWidgets": {},
     "nuid": "de34d8a8-68db-4d2c-bd0e-38add2ef816a",
     "showTitle": false,
     "title": ""
    }
   },
   "outputs": [],
   "source": [
    "emp_df = spark.createDataFrame(data, schema)"
   ]
  },
  {
   "cell_type": "code",
   "execution_count": 0,
   "metadata": {
    "application/vnd.databricks.v1+cell": {
     "cellMetadata": {
      "byteLimit": 2048000,
      "rowLimit": 10000
     },
     "inputWidgets": {},
     "nuid": "4fee8263-8c08-4b7f-bc36-d3690a1a37e8",
     "showTitle": false,
     "title": ""
    }
   },
   "outputs": [
    {
     "output_type": "stream",
     "name": "stdout",
     "output_type": "stream",
     "text": [
      "+------+--------------+----------+-------+----------+------------+\n|emp_id|      emp_name|emp_gender|emp_age|emp_salary| emp_manager|\n+------+--------------+----------+-------+----------+------------+\n|     1|   Arjun Patel|      Male|     30|     60000|Aarav Sharma|\n|     2|  Aarav Sharma|      Male|     28|     55000|  Zara Singh|\n|     3|    Zara Singh|    Female|     35|     70000| Arjun Patel|\n|     4|   Priya Reddy|    Female|     32|     65000|Aarav Sharma|\n|     1|   Arjun Patel|      Male|     30|     60000|Aarav Sharma|\n|     6|   Naina Verma|    Female|     31|     72000| Arjun Patel|\n|     1|   Arjun Patel|      Male|     30|     60000|Aarav Sharma|\n|     4|   Priya Reddy|    Female|     32|     65000|Aarav Sharma|\n|     5| Aditya Kapoor|      Male|     28|     58000|  Zara Singh|\n|    10|   Anaya Joshi|    Female|     27|     59000|Aarav Sharma|\n|    11|Rohan Malhotra|      Male|     36|     73000|  Zara Singh|\n|     3|    Zara Singh|    Female|     35|     70000| Arjun Patel|\n+------+--------------+----------+-------+----------+------------+\n\n"
     ]
    }
   ],
   "source": [
    "emp_df.show()"
   ]
  },
  {
   "cell_type": "code",
   "execution_count": 0,
   "metadata": {
    "application/vnd.databricks.v1+cell": {
     "cellMetadata": {
      "byteLimit": 2048000,
      "rowLimit": 10000
     },
     "inputWidgets": {},
     "nuid": "fb95af68-34f8-40e8-85d9-11e9547a6750",
     "showTitle": false,
     "title": ""
    }
   },
   "outputs": [
    {
     "output_type": "stream",
     "name": "stdout",
     "output_type": "stream",
     "text": [
      "+------+---------+-----------+----------+-------+----------+------------+\n|emp_id|occurence|   emp_name|emp_gender|emp_age|emp_salary| emp_manager|\n+------+---------+-----------+----------+-------+----------+------------+\n|     1|        3|Arjun Patel|      Male|     30|     60000|Aarav Sharma|\n|     3|        2| Zara Singh|    Female|     35|     70000| Arjun Patel|\n|     4|        2|Priya Reddy|    Female|     32|     65000|Aarav Sharma|\n+------+---------+-----------+----------+-------+----------+------------+\n\n"
     ]
    }
   ],
   "source": [
    "emp_df1 = emp_df.groupBy(col('emp_id')).agg(count(col('emp_id')).alias('occurence'))\n",
    "\n",
    "emp_df2 = emp_df1.filter(col('occurence') > 1)\n",
    "\n",
    "final_df = emp_df2.join(emp_df, on= 'emp_id')\n",
    "\n",
    "final_df.distinct().show()"
   ]
  },
  {
   "cell_type": "code",
   "execution_count": 0,
   "metadata": {
    "application/vnd.databricks.v1+cell": {
     "cellMetadata": {
      "byteLimit": 2048000,
      "rowLimit": 10000
     },
     "inputWidgets": {},
     "nuid": "35068912-c725-4876-ad7e-f9e84d33a86b",
     "showTitle": false,
     "title": ""
    }
   },
   "outputs": [
    {
     "output_type": "stream",
     "name": "stdout",
     "output_type": "stream",
     "text": [
      "+------+---------+\n|emp_id|occurence|\n+------+---------+\n|     1|        3|\n|     3|        2|\n|     4|        2|\n+------+---------+\n\n"
     ]
    }
   ],
   "source": [
    "emp_df2.show()"
   ]
  },
  {
   "cell_type": "code",
   "execution_count": 0,
   "metadata": {
    "application/vnd.databricks.v1+cell": {
     "cellMetadata": {
      "byteLimit": 2048000,
      "rowLimit": 10000
     },
     "inputWidgets": {},
     "nuid": "734cc716-27bf-4821-9416-d60c8d6038ea",
     "showTitle": false,
     "title": ""
    }
   },
   "outputs": [
    {
     "output_type": "stream",
     "name": "stdout",
     "output_type": "stream",
     "text": [
      "+------+--------------+----------+-------+----------+------------+-----+\n|emp_id|      emp_name|emp_gender|emp_age|emp_salary| emp_manager|count|\n+------+--------------+----------+-------+----------+------------+-----+\n|     2|  Aarav Sharma|      Male|     28|     55000|  Zara Singh|    1|\n|     1|   Arjun Patel|      Male|     30|     60000|Aarav Sharma|    3|\n|     3|    Zara Singh|    Female|     35|     70000| Arjun Patel|    2|\n|     4|   Priya Reddy|    Female|     32|     65000|Aarav Sharma|    2|\n|     6|   Naina Verma|    Female|     31|     72000| Arjun Patel|    1|\n|     5| Aditya Kapoor|      Male|     28|     58000|  Zara Singh|    1|\n|    11|Rohan Malhotra|      Male|     36|     73000|  Zara Singh|    1|\n|    10|   Anaya Joshi|    Female|     27|     59000|Aarav Sharma|    1|\n+------+--------------+----------+-------+----------+------------+-----+\n\n"
     ]
    }
   ],
   "source": [
    "emp_dfgroup = emp_df.groupBy(emp_df.columns).count()\n",
    "emp_dfgroup.show()"
   ]
  },
  {
   "cell_type": "code",
   "execution_count": 0,
   "metadata": {
    "application/vnd.databricks.v1+cell": {
     "cellMetadata": {
      "byteLimit": 2048000,
      "rowLimit": 10000
     },
     "inputWidgets": {},
     "nuid": "d7e8d322-9359-4590-910b-e50f84661b6e",
     "showTitle": false,
     "title": ""
    }
   },
   "outputs": [
    {
     "output_type": "stream",
     "name": "stdout",
     "output_type": "stream",
     "text": [
      "+------+-----------+----------+-------+----------+------------+\n|emp_id|   emp_name|emp_gender|emp_age|emp_salary| emp_manager|\n+------+-----------+----------+-------+----------+------------+\n|     1|Arjun Patel|      Male|     30|     60000|Aarav Sharma|\n|     3| Zara Singh|    Female|     35|     70000| Arjun Patel|\n|     4|Priya Reddy|    Female|     32|     65000|Aarav Sharma|\n+------+-----------+----------+-------+----------+------------+\n\n"
     ]
    }
   ],
   "source": [
    "final_df1 = emp_dfgroup.where(col(\"count\") > 1)\n",
    "final_df1.drop(col('count')).show()"
   ]
  },
  {
   "cell_type": "code",
   "execution_count": 0,
   "metadata": {
    "application/vnd.databricks.v1+cell": {
     "cellMetadata": {
      "byteLimit": 2048000,
      "rowLimit": 10000
     },
     "inputWidgets": {},
     "nuid": "f50af3df-3d73-4fed-b9ac-7dff1dd7d3b0",
     "showTitle": false,
     "title": ""
    }
   },
   "outputs": [],
   "source": [
    "from pyspark.sql import Window\n",
    "from pyspark.sql.functions import count"
   ]
  },
  {
   "cell_type": "code",
   "execution_count": 0,
   "metadata": {
    "application/vnd.databricks.v1+cell": {
     "cellMetadata": {
      "byteLimit": 2048000,
      "rowLimit": 10000
     },
     "inputWidgets": {},
     "nuid": "42e2a5d6-f973-4213-b8e9-54c8c16894b1",
     "showTitle": false,
     "title": ""
    }
   },
   "outputs": [],
   "source": [
    "partition = Window.partitionBy(emp_df.columns)"
   ]
  },
  {
   "cell_type": "code",
   "execution_count": 0,
   "metadata": {
    "application/vnd.databricks.v1+cell": {
     "cellMetadata": {
      "byteLimit": 2048000,
      "rowLimit": 10000
     },
     "inputWidgets": {},
     "nuid": "4f75ab14-06e9-4be0-9e82-e2feb330cf37",
     "showTitle": false,
     "title": ""
    }
   },
   "outputs": [
    {
     "output_type": "stream",
     "name": "stdout",
     "output_type": "stream",
     "text": [
      "+------+-----------+----------+-------+----------+------------+\n|emp_id|   emp_name|emp_gender|emp_age|emp_salary| emp_manager|\n+------+-----------+----------+-------+----------+------------+\n|     1|Arjun Patel|      Male|     30|     60000|Aarav Sharma|\n|     3| Zara Singh|    Female|     35|     70000| Arjun Patel|\n|     4|Priya Reddy|    Female|     32|     65000|Aarav Sharma|\n+------+-----------+----------+-------+----------+------------+\n\n"
     ]
    }
   ],
   "source": [
    "df_count = emp_df.withColumn(\"count\", count('emp_id').over(partition))\n",
    "df_count.where(col(\"count\") > 1).distinct().drop(col('count')).show()"
   ]
  },
  {
   "cell_type": "code",
   "execution_count": 0,
   "metadata": {
    "application/vnd.databricks.v1+cell": {
     "cellMetadata": {
      "byteLimit": 2048000,
      "rowLimit": 10000
     },
     "inputWidgets": {},
     "nuid": "a03b6a8c-eb60-4dca-8d03-0073ff8b3d8b",
     "showTitle": false,
     "title": ""
    }
   },
   "outputs": [
    {
     "output_type": "stream",
     "name": "stdout",
     "output_type": "stream",
     "text": [
      "+------+--------------+----------+-------+----------+------------+-----+\n|emp_id|      emp_name|emp_gender|emp_age|emp_salary| emp_manager|count|\n+------+--------------+----------+-------+----------+------------+-----+\n|     1|   Arjun Patel|      Male|     30|     60000|Aarav Sharma|    3|\n|     2|  Aarav Sharma|      Male|     28|     55000|  Zara Singh|    1|\n|     3|    Zara Singh|    Female|     35|     70000| Arjun Patel|    2|\n|     4|   Priya Reddy|    Female|     32|     65000|Aarav Sharma|    2|\n|     5| Aditya Kapoor|      Male|     28|     58000|  Zara Singh|    1|\n|     6|   Naina Verma|    Female|     31|     72000| Arjun Patel|    1|\n|    10|   Anaya Joshi|    Female|     27|     59000|Aarav Sharma|    1|\n|    11|Rohan Malhotra|      Male|     36|     73000|  Zara Singh|    1|\n+------+--------------+----------+-------+----------+------------+-----+\n\n"
     ]
    }
   ],
   "source": [
    "df_count.distinct().show()"
   ]
  },
  {
   "cell_type": "markdown",
   "metadata": {
    "application/vnd.databricks.v1+cell": {
     "cellMetadata": {},
     "inputWidgets": {},
     "nuid": "1346e47d-e078-4169-ad5f-b9cb6eca148d",
     "showTitle": false,
     "title": ""
    }
   },
   "source": [
    "## Union"
   ]
  },
  {
   "cell_type": "code",
   "execution_count": 0,
   "metadata": {
    "application/vnd.databricks.v1+cell": {
     "cellMetadata": {
      "byteLimit": 2048000,
      "rowLimit": 10000
     },
     "inputWidgets": {},
     "nuid": "99eef0a1-4038-4fba-bead-11a054004268",
     "showTitle": false,
     "title": ""
    }
   },
   "outputs": [],
   "source": [
    "df1 = [(10, 20, 30)]\n",
    "df2 = [(100, 200, 300)]\n",
    "df1_schema = \"col_0 int, col_1 int, col_2 int\"\n",
    "df2_schema = \"col_1 int, col_2 int, col_3 int\"\n",
    "df_1 = spark.createDataFrame(df1, df1_schema)\n",
    "df_2 = spark.createDataFrame(df2, df2_schema)"
   ]
  },
  {
   "cell_type": "code",
   "execution_count": 0,
   "metadata": {
    "application/vnd.databricks.v1+cell": {
     "cellMetadata": {
      "byteLimit": 2048000,
      "rowLimit": 10000
     },
     "inputWidgets": {},
     "nuid": "c4627d0d-a958-477d-8fa7-a41601c018f5",
     "showTitle": false,
     "title": ""
    }
   },
   "outputs": [
    {
     "output_type": "stream",
     "name": "stdout",
     "output_type": "stream",
     "text": [
      "+-----+-----+-----+\n|col_0|col_1|col_2|\n+-----+-----+-----+\n|   10|   20|   30|\n+-----+-----+-----+\n\n+-----+-----+-----+\n|col_1|col_2|col_3|\n+-----+-----+-----+\n|  100|  200|  300|\n+-----+-----+-----+\n\n"
     ]
    }
   ],
   "source": [
    "df_1.show()\n",
    "df_2.show()"
   ]
  },
  {
   "cell_type": "code",
   "execution_count": 0,
   "metadata": {
    "application/vnd.databricks.v1+cell": {
     "cellMetadata": {
      "byteLimit": 2048000,
      "rowLimit": 10000
     },
     "inputWidgets": {},
     "nuid": "56275554-dc50-48df-9bde-9177fed0310b",
     "showTitle": false,
     "title": ""
    }
   },
   "outputs": [],
   "source": [
    "union_df = df_1.unionByName(df_2, allowMissingColumns=True)"
   ]
  },
  {
   "cell_type": "code",
   "execution_count": 0,
   "metadata": {
    "application/vnd.databricks.v1+cell": {
     "cellMetadata": {
      "byteLimit": 2048000,
      "rowLimit": 10000
     },
     "inputWidgets": {},
     "nuid": "1fe9312e-f188-44ce-ba32-9403793671b1",
     "showTitle": false,
     "title": ""
    }
   },
   "outputs": [
    {
     "output_type": "stream",
     "name": "stdout",
     "output_type": "stream",
     "text": [
      "+-----+-----+-----+-----+\n|col_0|col_1|col_2|col_3|\n+-----+-----+-----+-----+\n|   10|   20|   30| NULL|\n| NULL|  100|  200|  300|\n+-----+-----+-----+-----+\n\n"
     ]
    }
   ],
   "source": [
    "union_df.show()"
   ]
  },
  {
   "cell_type": "markdown",
   "metadata": {
    "application/vnd.databricks.v1+cell": {
     "cellMetadata": {},
     "inputWidgets": {},
     "nuid": "93210c6b-7a7b-4bcc-b974-0eb1247ec180",
     "showTitle": false,
     "title": ""
    }
   },
   "source": [
    "##rank dense rank row number"
   ]
  },
  {
   "cell_type": "code",
   "execution_count": 0,
   "metadata": {
    "application/vnd.databricks.v1+cell": {
     "cellMetadata": {
      "byteLimit": 2048000,
      "rowLimit": 10000
     },
     "inputWidgets": {},
     "nuid": "eb6d523b-6487-4cf6-a6cc-e7fc413f7b3b",
     "showTitle": false,
     "title": ""
    }
   },
   "outputs": [],
   "source": [
    "emp_data = [\n",
    "    (101, \"Varun\", \"Sales\", 75000),\n",
    "    (102, \"Alia\", \"HR\", 46000),\n",
    "    (103, \"David\", \"IT\", 55000),\n",
    "    (104, \"Steve\", \"Sales\", 75000),\n",
    "    (105, \"Soham\", \"HR\", 46000),\n",
    "    (106, \"Kiron\", \"IT\", 50000),\n",
    "    (107, \"Dhoni\", \"Sales\", 68000),\n",
    "    (108, \"Tiger\", \"HR\", 45000),\n",
    "    (109, \"Rock\", \"IT\", 53000),\n",
    "    (110, \"Khali\", \"Sales\", 75000)\n",
    "]\n"
   ]
  },
  {
   "cell_type": "code",
   "execution_count": 0,
   "metadata": {
    "application/vnd.databricks.v1+cell": {
     "cellMetadata": {
      "byteLimit": 2048000,
      "rowLimit": 10000
     },
     "inputWidgets": {},
     "nuid": "fa51d709-4fb4-48f7-a5ea-68d14fd43c81",
     "showTitle": false,
     "title": ""
    }
   },
   "outputs": [],
   "source": [
    "emp_schema = StructType([\n",
    "    StructField(\"EmployeeID\", IntegerType(), True),\n",
    "    StructField(\"Name\", StringType(), True),\n",
    "    StructField(\"Department\", StringType(), True),\n",
    "    StructField(\"Salary\", IntegerType(), True)\n",
    "])"
   ]
  },
  {
   "cell_type": "code",
   "execution_count": 0,
   "metadata": {
    "application/vnd.databricks.v1+cell": {
     "cellMetadata": {
      "byteLimit": 2048000,
      "rowLimit": 10000
     },
     "inputWidgets": {},
     "nuid": "0d302250-16b0-4d4e-a735-f13125720c9a",
     "showTitle": false,
     "title": ""
    }
   },
   "outputs": [
    {
     "output_type": "stream",
     "name": "stdout",
     "output_type": "stream",
     "text": [
      "+----------+-----+----------+------+\n|EmployeeID| Name|Department|Salary|\n+----------+-----+----------+------+\n|       101|Varun|     Sales| 75000|\n|       102| Alia|        HR| 46000|\n|       103|David|        IT| 55000|\n|       104|Steve|     Sales| 75000|\n|       105|Soham|        HR| 46000|\n|       106|Kiron|        IT| 50000|\n|       107|Dhoni|     Sales| 68000|\n|       108|Tiger|        HR| 45000|\n|       109| Rock|        IT| 53000|\n|       110|Khali|     Sales| 75000|\n+----------+-----+----------+------+\n\n"
     ]
    }
   ],
   "source": [
    "emp_df = spark.createDataFrame(emp_data, emp_schema)\n",
    "\n",
    "emp_df.show()"
   ]
  },
  {
   "cell_type": "code",
   "execution_count": 0,
   "metadata": {
    "application/vnd.databricks.v1+cell": {
     "cellMetadata": {
      "byteLimit": 2048000,
      "rowLimit": 10000
     },
     "inputWidgets": {},
     "nuid": "8395c8ed-3126-4b50-aa69-0b08ca0c9e46",
     "showTitle": false,
     "title": ""
    }
   },
   "outputs": [],
   "source": [
    "#partition = Window.partitionBy(col('Department'))\n",
    "\n",
    "from pyspark.sql.functions import row_number, dense_rank, rank, col, desc\n",
    "windowDef = Window.orderBy(col(\"salary\").desc())"
   ]
  },
  {
   "cell_type": "code",
   "execution_count": 0,
   "metadata": {
    "application/vnd.databricks.v1+cell": {
     "cellMetadata": {
      "byteLimit": 2048000,
      "rowLimit": 10000
     },
     "inputWidgets": {},
     "nuid": "6ff81f39-1537-418a-a10d-3dbd9b177fc4",
     "showTitle": false,
     "title": ""
    }
   },
   "outputs": [],
   "source": [
    "emp_df1 = emp_df.withColumn(\"row_num\", row_number().over(windowDef))\\\n",
    "    .withColumn(\"rank\", rank().over(windowDef))\\\n",
    "        .withColumn(\"dense_rank\", dense_rank().over(windowDef))"
   ]
  },
  {
   "cell_type": "code",
   "execution_count": 0,
   "metadata": {
    "application/vnd.databricks.v1+cell": {
     "cellMetadata": {
      "byteLimit": 2048000,
      "rowLimit": 10000
     },
     "inputWidgets": {},
     "nuid": "b89e666e-6e49-43e0-a259-9cbc3c04bc03",
     "showTitle": false,
     "title": ""
    }
   },
   "outputs": [
    {
     "output_type": "stream",
     "name": "stdout",
     "output_type": "stream",
     "text": [
      "+----------+-----+----------+------+-------+----+----------+\n|EmployeeID| Name|Department|Salary|row_num|rank|dense_rank|\n+----------+-----+----------+------+-------+----+----------+\n|       101|Varun|     Sales| 75000|      1|   1|         1|\n|       104|Steve|     Sales| 75000|      2|   1|         1|\n|       110|Khali|     Sales| 75000|      3|   1|         1|\n|       107|Dhoni|     Sales| 68000|      4|   4|         2|\n|       103|David|        IT| 55000|      5|   5|         3|\n|       109| Rock|        IT| 53000|      6|   6|         4|\n|       106|Kiron|        IT| 50000|      7|   7|         5|\n|       102| Alia|        HR| 46000|      8|   8|         6|\n|       105|Soham|        HR| 46000|      9|   8|         6|\n|       108|Tiger|        HR| 45000|     10|  10|         7|\n+----------+-----+----------+------+-------+----+----------+\n\n"
     ]
    }
   ],
   "source": [
    "emp_df1.show()"
   ]
  },
  {
   "cell_type": "code",
   "execution_count": 0,
   "metadata": {
    "application/vnd.databricks.v1+cell": {
     "cellMetadata": {
      "byteLimit": 2048000,
      "rowLimit": 10000
     },
     "inputWidgets": {},
     "nuid": "e18d602d-653c-4420-ac00-dd649e3adfcd",
     "showTitle": false,
     "title": ""
    }
   },
   "outputs": [],
   "source": [
    "windowDef1 = Window.partitionBy(col('Department')).orderBy(col('Salary').desc())\n",
    "\n",
    "wind_emp_df1 = emp_df.withColumn(\"row_num\", row_number().over(windowDef1))\\\n",
    "    .withColumn(\"rank\", rank().over(windowDef1))\\\n",
    "        .withColumn(\"dense_rank\", dense_rank().over(windowDef1))"
   ]
  },
  {
   "cell_type": "code",
   "execution_count": 0,
   "metadata": {
    "application/vnd.databricks.v1+cell": {
     "cellMetadata": {
      "byteLimit": 2048000,
      "rowLimit": 10000
     },
     "inputWidgets": {},
     "nuid": "4da3e78f-92ed-411a-9e65-968bc804c264",
     "showTitle": false,
     "title": ""
    }
   },
   "outputs": [
    {
     "output_type": "stream",
     "name": "stdout",
     "output_type": "stream",
     "text": [
      "+----------+-----+----------+------+-------+----+----------+\n|EmployeeID| Name|Department|Salary|row_num|rank|dense_rank|\n+----------+-----+----------+------+-------+----+----------+\n|       102| Alia|        HR| 46000|      1|   1|         1|\n|       105|Soham|        HR| 46000|      2|   1|         1|\n|       108|Tiger|        HR| 45000|      3|   3|         2|\n|       103|David|        IT| 55000|      1|   1|         1|\n|       109| Rock|        IT| 53000|      2|   2|         2|\n|       106|Kiron|        IT| 50000|      3|   3|         3|\n|       101|Varun|     Sales| 75000|      1|   1|         1|\n|       104|Steve|     Sales| 75000|      2|   1|         1|\n|       110|Khali|     Sales| 75000|      3|   1|         1|\n|       107|Dhoni|     Sales| 68000|      4|   4|         2|\n+----------+-----+----------+------+-------+----+----------+\n\n"
     ]
    }
   ],
   "source": [
    "wind_emp_df1.show()"
   ]
  },
  {
   "cell_type": "code",
   "execution_count": 0,
   "metadata": {
    "application/vnd.databricks.v1+cell": {
     "cellMetadata": {},
     "inputWidgets": {},
     "nuid": "a04cf423-791f-4796-9af5-12eb82801a36",
     "showTitle": false,
     "title": ""
    }
   },
   "outputs": [],
   "source": []
  }
 ],
 "metadata": {
  "application/vnd.databricks.v1+notebook": {
   "dashboards": [],
   "language": "python",
   "notebookMetadata": {
    "pythonIndentUnit": 4
   },
   "notebookName": "DEwithDhairy",
   "widgets": {}
  }
 },
 "nbformat": 4,
 "nbformat_minor": 0
}
